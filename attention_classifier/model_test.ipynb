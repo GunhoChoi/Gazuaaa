{
 "cells": [
  {
   "cell_type": "code",
   "execution_count": 1,
   "metadata": {},
   "outputs": [],
   "source": [
    "import os\n",
    "\n",
    "#os.environ[\"CUDA_VISIBLE_DEVICES\"]=\"0,1,2,3,4,5,6,7\" #\n",
    "#os.environ[\"CUDA_LAUNCH_BLOCKING\"] = \"1\"\n",
    "\n",
    "import scipy.io as io\n",
    "from data.augmentation import *\n",
    "from data.dataloader import *\n",
    "\n",
    "from models.attention_vgg_3d import *\n",
    "\n",
    "import torch\n",
    "import torch.nn as nn\n",
    "import torch.optim as optim\n",
    "from torch.utils import data\n",
    "from torch.autograd import Variable"
   ]
  },
  {
   "cell_type": "code",
   "execution_count": 2,
   "metadata": {},
   "outputs": [],
   "source": [
    "train_dir = '../dataset/New_Bacteria/7_class/train'\n",
    "test_dir  = '../dataset/New_Bacteria/7_class/test'\n",
    "\n",
    "#model_dir = '/home/ubuntu/Desktop/Tomocube/code/gunho/first/save/highest_model_[85.].pkl'\n",
    "\n",
    "num_gpu = 1\n",
    "\n",
    "n_classes = 7\n",
    "num_epoch = 10000\n",
    "batch_size = 2\n",
    "test_batch_size = 1\n",
    "lr = 0.0002\n",
    "\n",
    "\n",
    "augmentation_list = [preprocess_crop_3d,\n",
    "                     crop_3d,\n",
    "                     gaussian_3d,\n",
    "                     calibration,\n",
    "                     elastic_transform,\n",
    "                     flipud_3d,\n",
    "                     fliplr_3d,\n",
    "                     rotate_3d,\n",
    "                     to_tensor]\n",
    "\n",
    "test_augmentation = [preprocess_crop_3d,\n",
    "                     center_crop_3d,\n",
    "                     calibration,\n",
    "                     to_tensor]"
   ]
  },
  {
   "cell_type": "code",
   "execution_count": 3,
   "metadata": {},
   "outputs": [
    {
     "name": "stdout",
     "output_type": "stream",
     "text": [
      "{'Bacillus subtilis (B. subtilis)': 0, 'Enterococcus faecalis (E. faecalis)': 1, 'Escherichia coli (E.coli)': 2, 'Klebsiella pneumoniae (K. pneumoniae)': 3, 'Pseudomonas aeruginosa (P. aeruginosa)': 4, 'Staphylococcus aureus (S. aureus)': 5, 'Staphylococcus epidermidis (S. epidermidis)': 6} 486\n",
      "{'Bacillus subtilis (B. subtilis)': 0, 'Enterococcus faecalis (E. faecalis)': 1, 'Escherichia coli (E.coli)': 2, 'Klebsiella pneumoniae (K. pneumoniae)': 3, 'Pseudomonas aeruginosa (P. aeruginosa)': 4, 'Staphylococcus aureus (S. aureus)': 5, 'Staphylococcus epidermidis (S. epidermidis)': 6} 117\n"
     ]
    }
   ],
   "source": [
    "train_set = ImageFolder(train_dir,transform=augmentation_list)\n",
    "train_batch = data.DataLoader(train_set,batch_size=batch_size, shuffle=True, drop_last=True)\n",
    "\n",
    "test_set = ImageFolder(test_dir,transform=test_augmentation)\n",
    "test_batch = data.DataLoader(test_set,batch_size=test_batch_size, shuffle=True, drop_last=True)\n",
    "\n",
    "\n",
    "print(train_set.class_to_idx,train_set.__len__())\n",
    "print(test_set.class_to_idx,test_set.__len__())"
   ]
  },
  {
   "cell_type": "code",
   "execution_count": 4,
   "metadata": {},
   "outputs": [
    {
     "name": "stdout",
     "output_type": "stream",
     "text": [
      "model not restored\n"
     ]
    }
   ],
   "source": [
    "model = vgg19_bn(num_classes=n_classes)\n",
    "# Attention Unet 3d\n",
    "\n",
    "#model = nn.DataParallel(model.cuda())\n",
    "\n",
    "try:\n",
    "    model.load_state_dict(torch.load(model_dir))\n",
    "    print(\"model restored\")\n",
    "except:\n",
    "    print(\"model not restored\")\n",
    "\n",
    "\n",
    "loss_function = nn.CrossEntropyLoss()\n",
    "optimizer = optim.Adam(model.parameters(),lr=lr)"
   ]
  },
  {
   "cell_type": "code",
   "execution_count": 5,
   "metadata": {
    "scrolled": false
   },
   "outputs": [
    {
     "name": "stdout",
     "output_type": "stream",
     "text": [
      "\n",
      "----------0th epoch starting----------\n",
      "\n",
      "Variable containing:\n",
      " 1.9467\n",
      "[torch.FloatTensor of size 1]\n",
      "\n"
     ]
    }
   ],
   "source": [
    "highest_accuracy = torch.FloatTensor([0])\n",
    "for i in range(num_epoch):\n",
    "    print(\"\\n----------{}th epoch starting----------\\n\".format(i))\n",
    "    \n",
    "    model.train()\n",
    "    top_1_count = torch.FloatTensor([0])\n",
    "    for train_idx,(img,label) in enumerate(train_batch):\n",
    "        #print(\"It's working\")\n",
    "        optimizer.zero_grad()\n",
    "\n",
    "        x = Variable(img.type_as(torch.FloatTensor()))\n",
    "        y = Variable(label)\n",
    "        out = model(x)\n",
    "          \n",
    "        loss = loss_function(out,y)\n",
    "        print(loss)\n",
    "        loss.backward()\n",
    "        optimizer.step()\n",
    "        \n",
    "        # accuracy\n",
    "\n",
    "        values, idx = out.max(dim=1)\n",
    "        top_1_count += torch.sum(y==idx).float().data\n",
    "        break\n",
    "    break\n",
    "        \n",
    "    print((train_idx+1)*batch_size)\n",
    "    train_accuracy = 100*top_1_count/((train_idx+1)*batch_size)\n",
    "    print(\"train accuracy: {}%\".format(train_accuracy.numpy()))"
   ]
  },
  {
   "cell_type": "code",
   "execution_count": null,
   "metadata": {},
   "outputs": [],
   "source": []
  }
 ],
 "metadata": {
  "kernelspec": {
   "display_name": "Pytorch 3.0",
   "language": "python",
   "name": "3.0"
  },
  "language_info": {
   "codemirror_mode": {
    "name": "ipython",
    "version": 3
   },
   "file_extension": ".py",
   "mimetype": "text/x-python",
   "name": "python",
   "nbconvert_exporter": "python",
   "pygments_lexer": "ipython3",
   "version": "3.6.5"
  }
 },
 "nbformat": 4,
 "nbformat_minor": 2
}
